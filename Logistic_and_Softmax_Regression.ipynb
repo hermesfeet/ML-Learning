{
  "nbformat": 4,
  "nbformat_minor": 0,
  "metadata": {
    "colab": {
      "name": "Logistic and Softmax Regression.ipynb",
      "provenance": [],
      "authorship_tag": "ABX9TyPyG5KT3D5zC5ddCrFsxSln",
      "include_colab_link": true
    },
    "kernelspec": {
      "name": "python3",
      "display_name": "Python 3"
    }
  },
  "cells": [
    {
      "cell_type": "markdown",
      "metadata": {
        "id": "view-in-github",
        "colab_type": "text"
      },
      "source": [
        "<a href=\"https://colab.research.google.com/github/hermesfeet/ML-Learning/blob/master/Logistic_and_Softmax_Regression.ipynb\" target=\"_parent\"><img src=\"https://colab.research.google.com/assets/colab-badge.svg\" alt=\"Open In Colab\"/></a>"
      ]
    },
    {
      "cell_type": "markdown",
      "metadata": {
        "id": "Cd81c5h4VBB2",
        "colab_type": "text"
      },
      "source": [
        "# Logistic Regression\n",
        "Used to estimate the probability an instance belongs to one of two classes.\n",
        "\n",
        "Example: \"Is this email spam or not\".\n",
        "\n",
        "Also called a binary classifier.\n"
      ]
    },
    {
      "cell_type": "code",
      "metadata": {
        "id": "Nkb6iApwU9tn",
        "colab_type": "code",
        "colab": {
          "base_uri": "https://localhost:8080/",
          "height": 34
        },
        "outputId": "1bd91753-94ca-4e4f-9597-5e57c321717f"
      },
      "source": [
        "from sklearn import datasets\n",
        "iris = datasets.load_iris()\n",
        "list(iris.keys())\n"
      ],
      "execution_count": 2,
      "outputs": [
        {
          "output_type": "execute_result",
          "data": {
            "text/plain": [
              "['data', 'target', 'target_names', 'DESCR', 'feature_names', 'filename']"
            ]
          },
          "metadata": {
            "tags": []
          },
          "execution_count": 2
        }
      ]
    },
    {
      "cell_type": "code",
      "metadata": {
        "id": "wmkqiQwxVh8X",
        "colab_type": "code",
        "colab": {}
      },
      "source": [
        "import numpy as np\n",
        "X = iris[\"data\"][:, 3:] #petal width\n",
        "y = (iris[\"target\"] == 2).astype(np.int) #1 if iris virginica, else 0"
      ],
      "execution_count": 0,
      "outputs": []
    },
    {
      "cell_type": "code",
      "metadata": {
        "id": "aiAFwaV7Vcyu",
        "colab_type": "code",
        "colab": {
          "base_uri": "https://localhost:8080/",
          "height": 102
        },
        "outputId": "e1dd486d-8723-42c6-8ad3-97f4b380719b"
      },
      "source": [
        "from sklearn.linear_model import LogisticRegression\n",
        "\n",
        "log_reg = LogisticRegression()\n",
        "log_reg.fit(X,y)"
      ],
      "execution_count": 5,
      "outputs": [
        {
          "output_type": "execute_result",
          "data": {
            "text/plain": [
              "LogisticRegression(C=1.0, class_weight=None, dual=False, fit_intercept=True,\n",
              "                   intercept_scaling=1, l1_ratio=None, max_iter=100,\n",
              "                   multi_class='auto', n_jobs=None, penalty='l2',\n",
              "                   random_state=None, solver='lbfgs', tol=0.0001, verbose=0,\n",
              "                   warm_start=False)"
            ]
          },
          "metadata": {
            "tags": []
          },
          "execution_count": 5
        }
      ]
    },
    {
      "cell_type": "code",
      "metadata": {
        "id": "j3Hd-xKhWB9x",
        "colab_type": "code",
        "colab": {
          "base_uri": "https://localhost:8080/",
          "height": 282
        },
        "outputId": "9bcb2057-37da-45c5-816c-4700ea0c91bc"
      },
      "source": [
        "import matplotlib.pyplot as plt\n",
        "\n",
        "X_new = np.linspace(0,3,1000).reshape(-1,1)\n",
        "y_proba = log_reg.predict_proba(X_new)\n",
        "plt.plot(X_new, y_proba[:, 1], \"g-\", label=\"Iris virginica\")\n",
        "plt.plot(X_new, y_proba[:, 0], \"b-\", label=\"NOT Iris virginica\")"
      ],
      "execution_count": 7,
      "outputs": [
        {
          "output_type": "execute_result",
          "data": {
            "text/plain": [
              "[<matplotlib.lines.Line2D at 0x7f26af388780>]"
            ]
          },
          "metadata": {
            "tags": []
          },
          "execution_count": 7
        },
        {
          "output_type": "display_data",
          "data": {
            "image/png": "[encoded data removed]",
            "text/plain": [
              "<Figure size 432x288 with 1 Axes>"
            ]
          },
          "metadata": {
            "tags": [],
            "needs_background": "light"
          }
        }
      ]
    },
    {
      "cell_type": "code",
      "metadata": {
        "id": "k_fsQcopWtwB",
        "colab_type": "code",
        "colab": {
          "base_uri": "https://localhost:8080/",
          "height": 34
        },
        "outputId": "db0a9268-daf8-41b2-e7d2-b3ccdacfe4c0"
      },
      "source": [
        "log_reg.predict([[1.7], [1.5]])"
      ],
      "execution_count": 10,
      "outputs": [
        {
          "output_type": "execute_result",
          "data": {
            "text/plain": [
              "array([1, 0])"
            ]
          },
          "metadata": {
            "tags": []
          },
          "execution_count": 10
        }
      ]
    },
    {
      "cell_type": "markdown",
      "metadata": {
        "id": "SPAYluJaW8rf",
        "colab_type": "text"
      },
      "source": [
        "# Softmax Regression (aka Multinomial Logistic Regression)\n",
        "Used to estimate the probability an instance belongs to one of many classes.\n",
        "\n",
        "Example: \"Is this image a cat, or dog, or chicken, or...\"\n",
        "\n",
        "Also called a softmax multiclass classifier (note that it won't do multioutput though).\n",
        "\n",
        "It looks at K classes, and uses cross entropy to measure how well as et of estimated class probabilities matches the target classes.\n"
      ]
    },
    {
      "cell_type": "code",
      "metadata": {
        "id": "sb6A3QmkWZAl",
        "colab_type": "code",
        "colab": {
          "base_uri": "https://localhost:8080/",
          "height": 102
        },
        "outputId": "841d560d-ed2a-469a-b0f4-9f615a0c2179"
      },
      "source": [
        "X = iris[\"data\"][:, (2,3)] #petal length, width\n",
        "y = iris[\"target\"] \n",
        "\n",
        "softmax_reg = LogisticRegression(multi_class=\"multinomial\", solver='lbfgs', C=10)\n",
        "softmax_reg.fit(X,y)"
      ],
      "execution_count": 11,
      "outputs": [
        {
          "output_type": "execute_result",
          "data": {
            "text/plain": [
              "LogisticRegression(C=10, class_weight=None, dual=False, fit_intercept=True,\n",
              "                   intercept_scaling=1, l1_ratio=None, max_iter=100,\n",
              "                   multi_class='multinomial', n_jobs=None, penalty='l2',\n",
              "                   random_state=None, solver='lbfgs', tol=0.0001, verbose=0,\n",
              "                   warm_start=False)"
            ]
          },
          "metadata": {
            "tags": []
          },
          "execution_count": 11
        }
      ]
    },
    {
      "cell_type": "code",
      "metadata": {
        "id": "ek4Vy95lX4KI",
        "colab_type": "code",
        "colab": {
          "base_uri": "https://localhost:8080/",
          "height": 34
        },
        "outputId": "09126ad5-a6f2-4476-81bd-702471e8663c"
      },
      "source": [
        "softmax_reg.predict([[5,2]])"
      ],
      "execution_count": 12,
      "outputs": [
        {
          "output_type": "execute_result",
          "data": {
            "text/plain": [
              "array([2])"
            ]
          },
          "metadata": {
            "tags": []
          },
          "execution_count": 12
        }
      ]
    },
    {
      "cell_type": "code",
      "metadata": {
        "id": "pOuwP5OrX76y",
        "colab_type": "code",
        "colab": {
          "base_uri": "https://localhost:8080/",
          "height": 34
        },
        "outputId": "edd1ef57-cade-4471-b806-b003cb5e4e24"
      },
      "source": [
        "softmax_reg.predict_proba([[5,2]])"
      ],
      "execution_count": 13,
      "outputs": [
        {
          "output_type": "execute_result",
          "data": {
            "text/plain": [
              "array([[6.38014896e-07, 5.74929995e-02, 9.42506362e-01]])"
            ]
          },
          "metadata": {
            "tags": []
          },
          "execution_count": 13
        }
      ]
    }
  ]
}