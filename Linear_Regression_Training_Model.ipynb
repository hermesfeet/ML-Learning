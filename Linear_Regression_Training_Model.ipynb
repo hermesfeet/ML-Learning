{
  "nbformat": 4,
  "nbformat_minor": 0,
  "metadata": {
    "colab": {
      "name": "Linear Regression Training Model.ipynb",
      "provenance": [],
      "authorship_tag": "ABX9TyOJZD5IUIQBFKd9s4e+7FHL",
      "include_colab_link": true
    },
    "kernelspec": {
      "name": "python3",
      "display_name": "Python 3"
    }
  },
  "cells": [
    {
      "cell_type": "markdown",
      "metadata": {
        "id": "view-in-github",
        "colab_type": "text"
      },
      "source": [
        "<a href=\"https://colab.research.google.com/github/hermesfeet/ML-Learning/blob/master/Linear_Regression_Training_Model.ipynb\" target=\"_parent\"><img src=\"https://colab.research.google.com/assets/colab-badge.svg\" alt=\"Open In Colab\"/></a>"
      ]
    },
    {
      "cell_type": "markdown",
      "metadata": {
        "id": "-hKqmVAh5RMR",
        "colab_type": "text"
      },
      "source": [
        "# Linear Regression Example\n",
        "1) Show with Normal Equation\n",
        "\n",
        "2) Show with Gradient Descent"
      ]
    },
    {
      "cell_type": "code",
      "metadata": {
        "id": "EPlpK4Mi4N8L",
        "colab_type": "code",
        "colab": {}
      },
      "source": [
        "import numpy as np"
      ],
      "execution_count": 0,
      "outputs": []
    },
    {
      "cell_type": "code",
      "metadata": {
        "id": "CCsQ_cDa4S__",
        "colab_type": "code",
        "colab": {}
      },
      "source": [
        "X = 2*np.random.rand(100,1)\n",
        "y = 4 + 3*X + np.random.randn(100,1)"
      ],
      "execution_count": 0,
      "outputs": []
    },
    {
      "cell_type": "code",
      "metadata": {
        "id": "_TRhKgye4hMo",
        "colab_type": "code",
        "colab": {
          "base_uri": "https://localhost:8080/",
          "height": 265
        },
        "outputId": "5cb8e66d-becc-438e-aed7-39b2e315f2b1"
      },
      "source": [
        "import matplotlib.pyplot as plt\n",
        "plt.plot(X, y, 'ro')\n",
        "plt.ylabel('some numbers')\n",
        "plt.show()\n"
      ],
      "execution_count": 5,
      "outputs": [
        {
          "output_type": "display_data",
          "data": {
            "image/png": "[encoded data removed]",
            "text/plain": [
              "<Figure size 432x288 with 1 Axes>"
            ]
          },
          "metadata": {
            "tags": [],
            "needs_background": "light"
          }
        }
      ]
    },
    {
      "cell_type": "code",
      "metadata": {
        "id": "_qrleoJ75PQa",
        "colab_type": "code",
        "colab": {
          "base_uri": "https://localhost:8080/",
          "height": 51
        },
        "outputId": "13281cf1-362d-48e8-ef12-dfa832231b71"
      },
      "source": [
        "# 1a) Normal Equation\n",
        "X_b = np.c_[np.ones((100,1)), X] # add x0=1 to each instance\n",
        "theta_best = np.linalg.inv(X_b.T.dot(X_b)).dot(X_b.T).dot(y)\n",
        "theta_best"
      ],
      "execution_count": 6,
      "outputs": [
        {
          "output_type": "execute_result",
          "data": {
            "text/plain": [
              "array([[3.71076571],\n",
              "       [3.25096014]])"
            ]
          },
          "metadata": {
            "tags": []
          },
          "execution_count": 6
        }
      ]
    },
    {
      "cell_type": "code",
      "metadata": {
        "id": "M0T2ZFdE5-X9",
        "colab_type": "code",
        "colab": {
          "base_uri": "https://localhost:8080/",
          "height": 265
        },
        "outputId": "6ffa7a15-68ef-4865-b0fa-d5118f27eba5"
      },
      "source": [
        "# Make prediction using Theta-Hat\n",
        "X_new = np.array([[0],[2]])\n",
        "X_new_b = np.c_[np.ones((2,1)), X_new]\n",
        "y_predict = X_new_b.dot(theta_best)\n",
        "y_predict \n",
        "\n",
        "plt.plot(X_new, y_predict, \"r-\")\n",
        "plt.plot(X,y, \"b.\")\n",
        "plt.axis([0,2,0,15])\n",
        "plt.show()"
      ],
      "execution_count": 8,
      "outputs": [
        {
          "output_type": "display_data",
          "data": {
            "image/png": "[encoded data removed]",
            "text/plain": [
              "<Figure size 432x288 with 1 Axes>"
            ]
          },
          "metadata": {
            "tags": [],
            "needs_background": "light"
          }
        }
      ]
    },
    {
      "cell_type": "code",
      "metadata": {
        "id": "Z5eK2Zgy6mOl",
        "colab_type": "code",
        "colab": {
          "base_uri": "https://localhost:8080/",
          "height": 51
        },
        "outputId": "21590458-05a1-4bc4-983e-8b372970c868"
      },
      "source": [
        "# 1a) Normal Equation w/ Scikit Learn\n",
        "from sklearn.linear_model import LinearRegression\n",
        "lin_reg = LinearRegression()\n",
        "lin_reg.fit(X,y)\n",
        "lin_reg.intercept_, lin_reg.coef_\n",
        "lin_reg.predict(X_new)\n"
      ],
      "execution_count": 9,
      "outputs": [
        {
          "output_type": "execute_result",
          "data": {
            "text/plain": [
              "array([[ 3.71076571],\n",
              "       [10.21268599]])"
            ]
          },
          "metadata": {
            "tags": []
          },
          "execution_count": 9
        }
      ]
    },
    {
      "cell_type": "code",
      "metadata": {
        "id": "P4YJ6Fe58Toz",
        "colab_type": "code",
        "colab": {
          "base_uri": "https://localhost:8080/",
          "height": 51
        },
        "outputId": "013e6b0a-9972-4df0-a812-b1f1aecaa68d"
      },
      "source": [
        "# 2a) Full Batch Gradient Descent\n",
        "alpha = 0.1 # learning rate\n",
        "n_iterations = 1000\n",
        "m = 100 #samples\n",
        "\n",
        "theta = np.random.randn(2,1)\n",
        "\n",
        "for iteration in range (n_iterations):\n",
        "  gradients = (2/m) * X_b.T.dot(X_b.dot(theta) - y)\n",
        "  theta = theta - alpha * gradients\n",
        "\n",
        "theta"
      ],
      "execution_count": 13,
      "outputs": [
        {
          "output_type": "execute_result",
          "data": {
            "text/plain": [
              "array([[3.71076571],\n",
              "       [3.25096014]])"
            ]
          },
          "metadata": {
            "tags": []
          },
          "execution_count": 13
        }
      ]
    },
    {
      "cell_type": "code",
      "metadata": {
        "id": "KslpLN238mIH",
        "colab_type": "code",
        "colab": {
          "base_uri": "https://localhost:8080/",
          "height": 51
        },
        "outputId": "8a46a72b-8be6-4540-b88f-31eb06428f38"
      },
      "source": [
        "# 2b) Stochastic Single Example Gradient Descent\n",
        "n_epochs = 200\n",
        "t0, t1 = 5, 50\n",
        "\n",
        "def learning_schedule(t):\n",
        "  return t0/(t+t1)\n",
        "\n",
        "theta = np.random.randn(2,1)\n",
        "\n",
        "for epoch in range(n_epochs):\n",
        "  for i in range(m):\n",
        "    random_index = np.random.randint(m)\n",
        "    xi = X_b[random_index:random_index +1]\n",
        "    yi = y[random_index:random_index +1]\n",
        "    gradients = 2*xi.T.dot(xi.dot(theta) - yi)\n",
        "    alpha = learning_schedule(epoch * m * i)\n",
        "    theta = theta - alpha * gradients\n",
        "\n",
        "theta"
      ],
      "execution_count": 19,
      "outputs": [
        {
          "output_type": "execute_result",
          "data": {
            "text/plain": [
              "array([[3.76900647],\n",
              "       [3.4361461 ]])"
            ]
          },
          "metadata": {
            "tags": []
          },
          "execution_count": 19
        }
      ]
    },
    {
      "cell_type": "code",
      "metadata": {
        "id": "jJhxXZv1-TdD",
        "colab_type": "code",
        "colab": {
          "base_uri": "https://localhost:8080/",
          "height": 34
        },
        "outputId": "06f0b4e9-d73d-4aa3-bcb2-e033a625bfef"
      },
      "source": [
        "# 2b) Stochastic Single Example Gradient Descent with SKLearn\n",
        "from sklearn.linear_model import SGDRegressor\n",
        "\n",
        "sgd_reg =  SGDRegressor(max_iter = 1000, tol=1e-3, penalty=None, eta0=0.1)\n",
        "sgd_reg.fit(X,y.ravel())\n",
        "\n",
        "sgd_reg.intercept_, sgd_reg.coef_\n"
      ],
      "execution_count": 18,
      "outputs": [
        {
          "output_type": "execute_result",
          "data": {
            "text/plain": [
              "(array([3.70350979]), array([3.25706798]))"
            ]
          },
          "metadata": {
            "tags": []
          },
          "execution_count": 18
        }
      ]
    },
    {
      "cell_type": "code",
      "metadata": {
        "id": "eOPYX2_v9V9_",
        "colab_type": "code",
        "colab": {}
      },
      "source": [
        ""
      ],
      "execution_count": 0,
      "outputs": []
    }
  ]
}